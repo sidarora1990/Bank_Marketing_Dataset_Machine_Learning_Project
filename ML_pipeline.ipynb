{
 "cells": [
  {
   "cell_type": "markdown",
   "metadata": {},
   "source": [
    "# Bank Marketing Dataset-UCI Machine learning reporsitory"
   ]
  },
  {
   "cell_type": "code",
   "execution_count": 19,
   "metadata": {},
   "outputs": [],
   "source": [
    "import pandas as pd\n",
    "import numpy as np\n",
    "from sklearn.pipeline import Pipeline\n",
    "from sklearn.preprocessing import LabelEncoder\n",
    "from sklearn.tree import DecisionTreeClassifier\n",
    "from sklearn.model_selection import cross_validate\n",
    "from sklearn import preprocessing\n",
    "from sklearn.base import BaseEstimator, TransformerMixin\n",
    "from sklearn.model_selection import StratifiedKFold\n",
    "from sklearn.ensemble import RandomForestClassifier\n",
    "from imblearn.over_sampling import SMOTE\n",
    "from imblearn.under_sampling import RandomUnderSampler\n",
    "from sklearn.naive_bayes import GaussianNB\n",
    "from sklearn.metrics import make_scorer, accuracy_score, precision_score, recall_score, f1_score,roc_auc_score\n",
    "import time\n",
    "import matplotlib.pyplot as plt"
   ]
  },
  {
   "cell_type": "code",
   "execution_count": 2,
   "metadata": {},
   "outputs": [],
   "source": [
    "data=pd.read_csv('bank-additional-full.csv',sep=';')"
   ]
  },
  {
   "cell_type": "code",
   "execution_count": 3,
   "metadata": {},
   "outputs": [],
   "source": [
    "data=data[~data.duplicated()] #removing duplicate rows"
   ]
  },
  {
   "cell_type": "code",
   "execution_count": 4,
   "metadata": {
    "scrolled": true
   },
   "outputs": [
    {
     "data": {
      "text/html": [
       "<div>\n",
       "<style scoped>\n",
       "    .dataframe tbody tr th:only-of-type {\n",
       "        vertical-align: middle;\n",
       "    }\n",
       "\n",
       "    .dataframe tbody tr th {\n",
       "        vertical-align: top;\n",
       "    }\n",
       "\n",
       "    .dataframe thead th {\n",
       "        text-align: right;\n",
       "    }\n",
       "</style>\n",
       "<table border=\"1\" class=\"dataframe\">\n",
       "  <thead>\n",
       "    <tr style=\"text-align: right;\">\n",
       "      <th></th>\n",
       "      <th>age</th>\n",
       "      <th>job</th>\n",
       "      <th>marital</th>\n",
       "      <th>education</th>\n",
       "      <th>default</th>\n",
       "      <th>housing</th>\n",
       "      <th>loan</th>\n",
       "      <th>contact</th>\n",
       "      <th>month</th>\n",
       "      <th>day_of_week</th>\n",
       "      <th>...</th>\n",
       "      <th>campaign</th>\n",
       "      <th>pdays</th>\n",
       "      <th>previous</th>\n",
       "      <th>poutcome</th>\n",
       "      <th>emp.var.rate</th>\n",
       "      <th>cons.price.idx</th>\n",
       "      <th>cons.conf.idx</th>\n",
       "      <th>euribor3m</th>\n",
       "      <th>nr.employed</th>\n",
       "      <th>y</th>\n",
       "    </tr>\n",
       "  </thead>\n",
       "  <tbody>\n",
       "    <tr>\n",
       "      <th>0</th>\n",
       "      <td>56</td>\n",
       "      <td>housemaid</td>\n",
       "      <td>married</td>\n",
       "      <td>basic.4y</td>\n",
       "      <td>no</td>\n",
       "      <td>no</td>\n",
       "      <td>no</td>\n",
       "      <td>telephone</td>\n",
       "      <td>may</td>\n",
       "      <td>mon</td>\n",
       "      <td>...</td>\n",
       "      <td>1</td>\n",
       "      <td>999</td>\n",
       "      <td>0</td>\n",
       "      <td>nonexistent</td>\n",
       "      <td>1.1</td>\n",
       "      <td>93.994</td>\n",
       "      <td>-36.4</td>\n",
       "      <td>4.857</td>\n",
       "      <td>5191.0</td>\n",
       "      <td>no</td>\n",
       "    </tr>\n",
       "    <tr>\n",
       "      <th>1</th>\n",
       "      <td>57</td>\n",
       "      <td>services</td>\n",
       "      <td>married</td>\n",
       "      <td>high.school</td>\n",
       "      <td>unknown</td>\n",
       "      <td>no</td>\n",
       "      <td>no</td>\n",
       "      <td>telephone</td>\n",
       "      <td>may</td>\n",
       "      <td>mon</td>\n",
       "      <td>...</td>\n",
       "      <td>1</td>\n",
       "      <td>999</td>\n",
       "      <td>0</td>\n",
       "      <td>nonexistent</td>\n",
       "      <td>1.1</td>\n",
       "      <td>93.994</td>\n",
       "      <td>-36.4</td>\n",
       "      <td>4.857</td>\n",
       "      <td>5191.0</td>\n",
       "      <td>no</td>\n",
       "    </tr>\n",
       "    <tr>\n",
       "      <th>2</th>\n",
       "      <td>37</td>\n",
       "      <td>services</td>\n",
       "      <td>married</td>\n",
       "      <td>high.school</td>\n",
       "      <td>no</td>\n",
       "      <td>yes</td>\n",
       "      <td>no</td>\n",
       "      <td>telephone</td>\n",
       "      <td>may</td>\n",
       "      <td>mon</td>\n",
       "      <td>...</td>\n",
       "      <td>1</td>\n",
       "      <td>999</td>\n",
       "      <td>0</td>\n",
       "      <td>nonexistent</td>\n",
       "      <td>1.1</td>\n",
       "      <td>93.994</td>\n",
       "      <td>-36.4</td>\n",
       "      <td>4.857</td>\n",
       "      <td>5191.0</td>\n",
       "      <td>no</td>\n",
       "    </tr>\n",
       "    <tr>\n",
       "      <th>3</th>\n",
       "      <td>40</td>\n",
       "      <td>admin.</td>\n",
       "      <td>married</td>\n",
       "      <td>basic.6y</td>\n",
       "      <td>no</td>\n",
       "      <td>no</td>\n",
       "      <td>no</td>\n",
       "      <td>telephone</td>\n",
       "      <td>may</td>\n",
       "      <td>mon</td>\n",
       "      <td>...</td>\n",
       "      <td>1</td>\n",
       "      <td>999</td>\n",
       "      <td>0</td>\n",
       "      <td>nonexistent</td>\n",
       "      <td>1.1</td>\n",
       "      <td>93.994</td>\n",
       "      <td>-36.4</td>\n",
       "      <td>4.857</td>\n",
       "      <td>5191.0</td>\n",
       "      <td>no</td>\n",
       "    </tr>\n",
       "    <tr>\n",
       "      <th>4</th>\n",
       "      <td>56</td>\n",
       "      <td>services</td>\n",
       "      <td>married</td>\n",
       "      <td>high.school</td>\n",
       "      <td>no</td>\n",
       "      <td>no</td>\n",
       "      <td>yes</td>\n",
       "      <td>telephone</td>\n",
       "      <td>may</td>\n",
       "      <td>mon</td>\n",
       "      <td>...</td>\n",
       "      <td>1</td>\n",
       "      <td>999</td>\n",
       "      <td>0</td>\n",
       "      <td>nonexistent</td>\n",
       "      <td>1.1</td>\n",
       "      <td>93.994</td>\n",
       "      <td>-36.4</td>\n",
       "      <td>4.857</td>\n",
       "      <td>5191.0</td>\n",
       "      <td>no</td>\n",
       "    </tr>\n",
       "  </tbody>\n",
       "</table>\n",
       "<p>5 rows × 21 columns</p>\n",
       "</div>"
      ],
      "text/plain": [
       "   age        job  marital    education  default housing loan    contact  \\\n",
       "0   56  housemaid  married     basic.4y       no      no   no  telephone   \n",
       "1   57   services  married  high.school  unknown      no   no  telephone   \n",
       "2   37   services  married  high.school       no     yes   no  telephone   \n",
       "3   40     admin.  married     basic.6y       no      no   no  telephone   \n",
       "4   56   services  married  high.school       no      no  yes  telephone   \n",
       "\n",
       "  month day_of_week  ...  campaign  pdays  previous     poutcome emp.var.rate  \\\n",
       "0   may         mon  ...         1    999         0  nonexistent          1.1   \n",
       "1   may         mon  ...         1    999         0  nonexistent          1.1   \n",
       "2   may         mon  ...         1    999         0  nonexistent          1.1   \n",
       "3   may         mon  ...         1    999         0  nonexistent          1.1   \n",
       "4   may         mon  ...         1    999         0  nonexistent          1.1   \n",
       "\n",
       "   cons.price.idx  cons.conf.idx  euribor3m  nr.employed   y  \n",
       "0          93.994          -36.4      4.857       5191.0  no  \n",
       "1          93.994          -36.4      4.857       5191.0  no  \n",
       "2          93.994          -36.4      4.857       5191.0  no  \n",
       "3          93.994          -36.4      4.857       5191.0  no  \n",
       "4          93.994          -36.4      4.857       5191.0  no  \n",
       "\n",
       "[5 rows x 21 columns]"
      ]
     },
     "execution_count": 4,
     "metadata": {},
     "output_type": "execute_result"
    }
   ],
   "source": [
    "data.head()"
   ]
  },
  {
   "cell_type": "code",
   "execution_count": 5,
   "metadata": {
    "scrolled": true
   },
   "outputs": [
    {
     "name": "stdout",
     "output_type": "stream",
     "text": [
      "<class 'pandas.core.frame.DataFrame'>\n",
      "Int64Index: 41176 entries, 0 to 41187\n",
      "Data columns (total 21 columns):\n",
      " #   Column          Non-Null Count  Dtype  \n",
      "---  ------          --------------  -----  \n",
      " 0   age             41176 non-null  int64  \n",
      " 1   job             41176 non-null  object \n",
      " 2   marital         41176 non-null  object \n",
      " 3   education       41176 non-null  object \n",
      " 4   default         41176 non-null  object \n",
      " 5   housing         41176 non-null  object \n",
      " 6   loan            41176 non-null  object \n",
      " 7   contact         41176 non-null  object \n",
      " 8   month           41176 non-null  object \n",
      " 9   day_of_week     41176 non-null  object \n",
      " 10  duration        41176 non-null  int64  \n",
      " 11  campaign        41176 non-null  int64  \n",
      " 12  pdays           41176 non-null  int64  \n",
      " 13  previous        41176 non-null  int64  \n",
      " 14  poutcome        41176 non-null  object \n",
      " 15  emp.var.rate    41176 non-null  float64\n",
      " 16  cons.price.idx  41176 non-null  float64\n",
      " 17  cons.conf.idx   41176 non-null  float64\n",
      " 18  euribor3m       41176 non-null  float64\n",
      " 19  nr.employed     41176 non-null  float64\n",
      " 20  y               41176 non-null  object \n",
      "dtypes: float64(5), int64(5), object(11)\n",
      "memory usage: 6.9+ MB\n"
     ]
    }
   ],
   "source": [
    "data.info()"
   ]
  },
  {
   "cell_type": "markdown",
   "metadata": {},
   "source": [
    "### Pre-processing 1"
   ]
  },
  {
   "cell_type": "markdown",
   "metadata": {},
   "source": [
    "Label encoding of Education and One-hot encoding of categorical fields"
   ]
  },
  {
   "cell_type": "code",
   "execution_count": 6,
   "metadata": {},
   "outputs": [],
   "source": [
    "class Feature_engineering(BaseEstimator, TransformerMixin):\n",
    "    def __init__(self):\n",
    "        return\n",
    "\n",
    "    def fit(self, X=data, y=None):\n",
    "        df=X.copy()\n",
    "        if('education' in df.columns):\n",
    "            df.education=preprocessing.LabelEncoder().fit_transform(df.education)\n",
    "        cols=[]\n",
    "        for i in df.columns:\n",
    "            if(df[i].dtype=='O'):\n",
    "                cols.append(i)\n",
    "        data_dummies=pd.get_dummies(df,prefix=cols,columns=cols)\n",
    "        self.data_columns=data_dummies.columns\n",
    "        return self\n",
    "        \n",
    "\n",
    "    \n",
    "    def transform(self,X=data):\n",
    "        df=X.copy()\n",
    "        if('education' in df.columns):\n",
    "            df.education=preprocessing.LabelEncoder().fit_transform(df.education)\n",
    "        cols=[]\n",
    "        for i in df.columns:\n",
    "            if(df[i].dtype=='O'):\n",
    "                cols.append(i)\n",
    "        data_dummies=pd.get_dummies(df,prefix=cols,columns=cols)\n",
    "        data_dummies=data_dummies.reindex(columns = self.data_columns, fill_value=0)\n",
    "        df=df.drop(cols,axis=1)\n",
    "        x = pd.concat([df, data_dummies], axis=1)\n",
    "        x=x.loc[:,~x.columns.duplicated()]\n",
    "        return x\n",
    "    def transform_y(data):\n",
    "        y_dict={\n",
    "            'yes':1,\n",
    "            'no':0\n",
    "        }\n",
    "        data=data.map(y_dict)\n",
    "        return data"
   ]
  },
  {
   "cell_type": "markdown",
   "metadata": {},
   "source": [
    "### Pre-processing 2\n"
   ]
  },
  {
   "cell_type": "markdown",
   "metadata": {},
   "source": [
    "Ordinal encoding of Education and One-hot encoding of categorical fields"
   ]
  },
  {
   "cell_type": "code",
   "execution_count": 7,
   "metadata": {},
   "outputs": [],
   "source": [
    "class Feature_engineering(BaseEstimator, TransformerMixin):\n",
    "    def __init__(self):\n",
    "        return\n",
    "\n",
    "    def fit(self, X=data, y=None):\n",
    "        edu_dict={\n",
    "        'unknown':0,\n",
    "        'illiterate':1,\n",
    "\n",
    "        'basic.4y':2,\n",
    "        'basic.6y':3,\n",
    "        'basic.9y':4, \n",
    "        'high.school':5, \n",
    "           'professional.course':6,\n",
    "        'university.degree':7\n",
    "        }\n",
    "        df=X.copy()\n",
    "        if('education' in df.columns):\n",
    "            df.education=df.education.map(edu_dict)\n",
    "        cols=[]\n",
    "        for i in df.columns:\n",
    "            if(df[i].dtype=='O'):\n",
    "                cols.append(i)\n",
    "        data_dummies=pd.get_dummies(df,prefix=cols,columns=cols)\n",
    "        self.data_columns=data_dummies.columns\n",
    "        return self\n",
    "\n",
    "    \n",
    "    def transform(self,X=data):\n",
    "        edu_dict={\n",
    "        'unknown':0,\n",
    "        'illiterate':1,\n",
    "\n",
    "        'basic.4y':2,\n",
    "        'basic.6y':3,\n",
    "        'basic.9y':4, \n",
    "        'high.school':5, \n",
    "           'professional.course':6,\n",
    "        'university.degree':7\n",
    "        }\n",
    "        df=X.copy()\n",
    "        if('education' in df.columns):\n",
    "            df.education=df.education.map(edu_dict)\n",
    "        cols=[]\n",
    "        for i in df.columns:\n",
    "            if(df[i].dtype=='O'):\n",
    "                cols.append(i)\n",
    "        data_dummies=pd.get_dummies(df,prefix=cols,columns=cols)\n",
    "        data_dummies=data_dummies.reindex(columns = self.data_columns, fill_value=0)\n",
    "        df=df.drop(cols,axis=1)\n",
    "        x = pd.concat([df, data_dummies], axis=1)\n",
    "        x=x.loc[:,~x.columns.duplicated()]\n",
    "        return x\n",
    "    def transform_y(data):\n",
    "        y_dict={\n",
    "            'yes':1,\n",
    "            'no':0\n",
    "        }\n",
    "        data=data.map(y_dict)\n",
    "        return data"
   ]
  },
  {
   "cell_type": "code",
   "execution_count": 7,
   "metadata": {},
   "outputs": [],
   "source": [
    "scoring = {'accuracy' : make_scorer(accuracy_score), \n",
    "           'precision' : make_scorer(precision_score),\n",
    "           'recall' : make_scorer(recall_score), \n",
    "           'f1_score' : make_scorer(f1_score),\n",
    "          'roc_auc':make_scorer(roc_auc_score)}"
   ]
  },
  {
   "cell_type": "code",
   "execution_count": 8,
   "metadata": {},
   "outputs": [],
   "source": [
    "def accuracy_measures(scores):\n",
    "    print(\"Mean training ROC AUC score: \",np.mean(scores['train_roc_auc']),\" and mean testing ROC AUC score: \",np.mean(scores['test_roc_auc']))\n",
    "    print(\"Mean training accuracy score: \",np.mean(scores['train_accuracy']),\" and mean testing accuracy score: \",np.mean(scores['test_accuracy']))\n",
    "    print(\"Mean training recall score: \",np.mean(scores['train_recall']),\" and mean testing recall score: \",np.mean(scores['test_recall']))\n",
    "    print(\"Mean training precision score: \",np.mean(scores['train_precision']),\" and mean testing precision score: \",np.mean(scores['test_precision']))\n",
    "    print(\"Mean training f1 score: \",np.mean(scores['train_f1_score']),\" and mean testing f1 score: \",np.mean(scores['test_f1_score']))\n"
   ]
  },
  {
   "cell_type": "markdown",
   "metadata": {},
   "source": [
    "### Strarified K fold Cross-validation on Pipeline including  Feature Engineering and Decision Tree"
   ]
  },
  {
   "cell_type": "code",
   "execution_count": 9,
   "metadata": {
    "scrolled": true
   },
   "outputs": [],
   "source": [
    "def decision_tree_pipeline(X,y):\n",
    "    cv=StratifiedKFold(n_splits=10, random_state=0, shuffle=True)\n",
    "    pipeline = Pipeline([('Pre-processing',Feature_engineering()),('Tree',DecisionTreeClassifier(random_state=0,max_depth=5))])\n",
    "    scores = cross_validate(pipeline,X,y,cv=cv,scoring=scoring,return_train_score=True,return_estimator=True)\n",
    "    accuracy_measures(scores)\n",
    "    return scores"
   ]
  },
  {
   "cell_type": "code",
   "execution_count": 10,
   "metadata": {},
   "outputs": [
    {
     "name": "stdout",
     "output_type": "stream",
     "text": [
      "Mean training ROC AUC score:  0.7524639938509131  and mean testing ROC AUC score:  0.7427135799805914\n",
      "Mean training accuracy score:  0.9175652498357751  and mean testing accuracy score:  0.9141247163026403\n",
      "Mean training recall score:  0.5393405832014133  and mean testing recall score:  0.5214455946972519\n",
      "Mean training precision score:  0.6660479104838382  and mean testing precision score:  0.6495460637148479\n",
      "Mean training f1 score:  0.5954809869238302  and mean testing f1 score:  0.5774177263468128\n",
      "--- Time of execution is 3.1974897384643555 seconds ---\n"
     ]
    }
   ],
   "source": [
    "start_time = time.time()\n",
    "\n",
    "data=pd.read_csv('bank-additional-full.csv',sep=';')\n",
    "data=data[~data.duplicated()] #removing duplicate rows\n",
    "X=data.iloc[:,:-1]\n",
    "y=Feature_engineering.transform_y(data.iloc[:,-1])\n",
    "scores=decision_tree_pipeline(X,y)\n",
    "\n",
    "print(\"--- Time of execution is %s seconds ---\" % (time.time() - start_time))"
   ]
  },
  {
   "cell_type": "markdown",
   "metadata": {},
   "source": [
    "### Stratified K-fold CV on Pipeline inclduing Feature Engineering, SMOTE , Undersampling and Decision tree"
   ]
  },
  {
   "cell_type": "code",
   "execution_count": 11,
   "metadata": {},
   "outputs": [],
   "source": [
    "def decision_tree_pipeline(X,y):\n",
    "    from imblearn.pipeline import Pipeline\n",
    "\n",
    "    over = SMOTE(sampling_strategy=0.2)\n",
    "    under = RandomUnderSampler(sampling_strategy=0.5)\n",
    "    pipeline = Pipeline([('Pre-processing',Feature_engineering()),('over', over),('under', under),('Tree',DecisionTreeClassifier(random_state=0,max_depth=5))])\n",
    "    pipeline = pipeline.fit(X,y)\n",
    "    scores = cross_validate(pipeline,X,y,cv=10,scoring=scoring,return_train_score=True,return_estimator =True)\n",
    "    accuracy_measures(scores)\n",
    "    return scores"
   ]
  },
  {
   "cell_type": "code",
   "execution_count": 12,
   "metadata": {},
   "outputs": [
    {
     "name": "stdout",
     "output_type": "stream",
     "text": [
      "Mean training ROC AUC score:  0.867244139837766  and mean testing ROC AUC score:  0.5837029605702998\n",
      "Mean training accuracy score:  0.8962691018445932  and mean testing accuracy score:  0.7463431691975242\n",
      "Mean training recall score:  0.8297768199233715  and mean testing recall score:  0.3737697363521263\n",
      "Mean training precision score:  0.526611129802359  and mean testing precision score:  0.2922395073285503\n",
      "Mean training f1 score:  0.643695798047862  and mean testing f1 score:  0.2309654480368739\n",
      "--- Time of execution is 8.350621223449707 seconds ---\n"
     ]
    }
   ],
   "source": [
    "start_time = time.time()\n",
    "\n",
    "data=pd.read_csv('bank-additional-full.csv',sep=';')\n",
    "data=data[~data.duplicated()] #removing duplicate rows\n",
    "\n",
    "X=data.iloc[:,:-1]\n",
    "y=Feature_engineering.transform_y(data.iloc[:,-1])\n",
    "scores=decision_tree_pipeline(X,y)\n",
    "\n",
    "print(\"--- Time of execution is %s seconds ---\" % (time.time() - start_time))"
   ]
  },
  {
   "cell_type": "markdown",
   "metadata": {},
   "source": [
    "### Strarified K fold Cross-validation on pipeline including Feature Engineering and Random Forest\n"
   ]
  },
  {
   "cell_type": "code",
   "execution_count": 13,
   "metadata": {
    "scrolled": true
   },
   "outputs": [],
   "source": [
    " def random_forest_pipeline(X,y):\n",
    "    cv=StratifiedKFold(n_splits=10, random_state=0, shuffle=True)\n",
    "    pipeline = Pipeline([('Pre-processing',Feature_engineering()),('forest',RandomForestClassifier(n_estimators=100,random_state=42,max_depth=5))])\n",
    "    scores = cross_validate(pipeline,X,y,cv=cv,scoring=scoring,return_train_score=True,return_estimator =True)\n",
    "    accuracy_measures(scores)\n",
    "    return scores"
   ]
  },
  {
   "cell_type": "markdown",
   "metadata": {},
   "source": [
    "Initially, use all the columns to fit the model"
   ]
  },
  {
   "cell_type": "code",
   "execution_count": 14,
   "metadata": {
    "scrolled": true
   },
   "outputs": [
    {
     "name": "stdout",
     "output_type": "stream",
     "text": [
      "Mean training ROC AUC score:  0.596509950619319  and mean testing ROC AUC score:  0.5924861807745192\n",
      "Mean training accuracy score:  0.9040136680032447  and mean testing accuracy score:  0.9025159837266038\n",
      "Mean training recall score:  0.1995642565443825  and mean testing recall score:  0.1922800141505921\n",
      "Mean training precision score:  0.7949016039469767  and mean testing precision score:  0.7719460162520866\n",
      "Mean training f1 score:  0.31897159508271117  and mean testing f1 score:  0.30741908969198395\n",
      "--- Time of execution is 14.733590602874756 seconds ---\n"
     ]
    }
   ],
   "source": [
    "start_time = time.time()\n",
    "\n",
    "data=pd.read_csv('bank-additional-full.csv',sep=';')\n",
    "data=data[~data.duplicated()] #removing duplicate rows\n",
    "\n",
    "X=data.iloc[:,:-1]\n",
    "y=Feature_engineering.transform_y(data.iloc[:,-1])\n",
    "scores=random_forest_pipeline(X,y)\n",
    "\n",
    "print(\"--- Time of execution is %s seconds ---\" % (time.time() - start_time))"
   ]
  },
  {
   "cell_type": "markdown",
   "metadata": {},
   "source": [
    "### Strarified K fold Cross-validation on already fitted Random Forest with flexible threshold\n"
   ]
  },
  {
   "cell_type": "code",
   "execution_count": 15,
   "metadata": {},
   "outputs": [],
   "source": [
    "class K_Fold_score():\n",
    "    \n",
    "    def func_predict_proba(self,X,y,threshold,scores,idx):\n",
    "        predicted_proba=scores['estimator'][idx].predict_proba(Feature_engineering().fit_transform(X))\n",
    "        predicted = (predicted_proba[:,1] >= threshold).astype('int')\n",
    "        roc_auc=roc_auc_score(y,predicted)\n",
    "        f1=f1_score(y,predicted)\n",
    "        recall=recall_score(y,predicted)\n",
    "        accuracy=accuracy_score(y,predicted)\n",
    "        return roc_auc\n",
    "\n",
    "    def score_iter(self,X,y,scores,threshold):\n",
    "\n",
    "        cv=StratifiedKFold(n_splits=10, random_state=0, shuffle=True)\n",
    "        train_score=0\n",
    "        test_score=0\n",
    "        for idx,estimator in enumerate(scores['estimator']):\n",
    "            train_score_iter=0\n",
    "            test_score_iter=0\n",
    "            for train_idx,test_idx in cv.split(X, y):\n",
    "\n",
    "                train_score_iter = train_score_iter +self.func_predict_proba(X.iloc[train_idx],y.iloc[train_idx],threshold,scores,idx)\n",
    "                test_score_iter  = test_score_iter +self.func_predict_proba(X.iloc[test_idx],y.iloc[test_idx],threshold,scores,idx)\n",
    "\n",
    "            train_score_iter /=len(scores['estimator'])\n",
    "            test_score_iter /=len(scores['estimator'])\n",
    "            \n",
    "            train_score=train_score+train_score_iter\n",
    "            test_score=test_score+test_score_iter\n",
    "        \n",
    "        train_score/=len(scores['estimator'])\n",
    "        test_score/=len(scores['estimator'])\n",
    "        return train_score,test_score\n",
    "    \n",
    "    def plot_score(self,train_list,test_list,threshold):\n",
    "        plt.plot(threshold,train_list, label = \"Train ROC AUC score\",marker=\".\")\n",
    "        plt.plot(threshold,test_list, label = \"Test ROC AUC score\",marker=\".\")\n",
    "        plt.axhline(y=train_list[5], color='r', linestyle='-')\n",
    "        plt.legend()\n",
    "        plt.show()\n"
   ]
  },
  {
   "cell_type": "code",
   "execution_count": 16,
   "metadata": {},
   "outputs": [],
   "source": [
    "obj= K_Fold_score()"
   ]
  },
  {
   "cell_type": "code",
   "execution_count": 17,
   "metadata": {},
   "outputs": [
    {
     "name": "stdout",
     "output_type": "stream",
     "text": [
      "--- Time of execution is 255.20061922073364 seconds ---\n"
     ]
    }
   ],
   "source": [
    "start_time = time.time()        \n",
    "threshold=[0.05,0.1,0.2,0.3,0.4,0.5,0.7]\n",
    "train_list=[]\n",
    "test_list=[]\n",
    "for i in threshold:\n",
    "    train_score,test_score=obj.score_iter(X,y,scores,i)\n",
    "    train_list.append(train_score)\n",
    "    test_list.append(test_score)\n",
    "\n",
    "print(\"--- Time of execution is %s seconds ---\" % (time.time() - start_time))"
   ]
  },
  {
   "cell_type": "markdown",
   "metadata": {},
   "source": [
    "#### Threshold vs Accuracy plot"
   ]
  },
  {
   "cell_type": "code",
   "execution_count": 20,
   "metadata": {},
   "outputs": [
    {
     "data": {
      "image/png": "[encoded data removed]",
      "text/plain": [
       "<Figure size 432x288 with 1 Axes>"
      ]
     },
     "metadata": {
      "needs_background": "light"
     },
     "output_type": "display_data"
    }
   ],
   "source": [
    "obj.plot_score(train_list,test_list,threshold)"
   ]
  },
  {
   "cell_type": "markdown",
   "metadata": {},
   "source": [
    "#### Generating the feature  importance dataframe for each of the K estimators"
   ]
  },
  {
   "cell_type": "code",
   "execution_count": 21,
   "metadata": {},
   "outputs": [],
   "source": [
    "feature_importances=pd.DataFrame()\n",
    "for idx,estimator in enumerate(scores['estimator']):\n",
    "    ft_estimator=pd.DataFrame({\n",
    "        'columns order for estimator_{}'.format(idx):Feature_engineering().fit_transform(X).columns,\n",
    "        'importance_estimator_{}'.format(idx):estimator.steps[1][1].feature_importances_}).sort_values(['importance_estimator_{}'.format(idx)], ascending=False)\n",
    "    ft_estimator.reset_index(inplace=True,drop=True)\n",
    "    feature_importances=pd.concat([feature_importances,ft_estimator],axis=1)"
   ]
  },
  {
   "cell_type": "code",
   "execution_count": 22,
   "metadata": {
    "scrolled": false
   },
   "outputs": [
    {
     "data": {
      "text/html": [
       "<div>\n",
       "<style scoped>\n",
       "    .dataframe tbody tr th:only-of-type {\n",
       "        vertical-align: middle;\n",
       "    }\n",
       "\n",
       "    .dataframe tbody tr th {\n",
       "        vertical-align: top;\n",
       "    }\n",
       "\n",
       "    .dataframe thead th {\n",
       "        text-align: right;\n",
       "    }\n",
       "</style>\n",
       "<table border=\"1\" class=\"dataframe\">\n",
       "  <thead>\n",
       "    <tr style=\"text-align: right;\">\n",
       "      <th></th>\n",
       "      <th>columns order for estimator_0</th>\n",
       "      <th>importance_estimator_0</th>\n",
       "      <th>columns order for estimator_1</th>\n",
       "      <th>importance_estimator_1</th>\n",
       "      <th>columns order for estimator_2</th>\n",
       "      <th>importance_estimator_2</th>\n",
       "      <th>columns order for estimator_3</th>\n",
       "      <th>importance_estimator_3</th>\n",
       "      <th>columns order for estimator_4</th>\n",
       "      <th>importance_estimator_4</th>\n",
       "      <th>columns order for estimator_5</th>\n",
       "      <th>importance_estimator_5</th>\n",
       "      <th>columns order for estimator_6</th>\n",
       "      <th>importance_estimator_6</th>\n",
       "      <th>columns order for estimator_7</th>\n",
       "      <th>importance_estimator_7</th>\n",
       "      <th>columns order for estimator_8</th>\n",
       "      <th>importance_estimator_8</th>\n",
       "      <th>columns order for estimator_9</th>\n",
       "      <th>importance_estimator_9</th>\n",
       "    </tr>\n",
       "  </thead>\n",
       "  <tbody>\n",
       "    <tr>\n",
       "      <th>0</th>\n",
       "      <td>duration</td>\n",
       "      <td>0.277608</td>\n",
       "      <td>duration</td>\n",
       "      <td>0.289440</td>\n",
       "      <td>duration</td>\n",
       "      <td>0.279678</td>\n",
       "      <td>duration</td>\n",
       "      <td>0.266780</td>\n",
       "      <td>duration</td>\n",
       "      <td>0.264349</td>\n",
       "      <td>duration</td>\n",
       "      <td>0.264556</td>\n",
       "      <td>duration</td>\n",
       "      <td>0.255759</td>\n",
       "      <td>duration</td>\n",
       "      <td>0.265058</td>\n",
       "      <td>duration</td>\n",
       "      <td>0.254207</td>\n",
       "      <td>duration</td>\n",
       "      <td>0.256453</td>\n",
       "    </tr>\n",
       "    <tr>\n",
       "      <th>1</th>\n",
       "      <td>nr.employed</td>\n",
       "      <td>0.163649</td>\n",
       "      <td>nr.employed</td>\n",
       "      <td>0.162125</td>\n",
       "      <td>nr.employed</td>\n",
       "      <td>0.154816</td>\n",
       "      <td>nr.employed</td>\n",
       "      <td>0.152964</td>\n",
       "      <td>nr.employed</td>\n",
       "      <td>0.157283</td>\n",
       "      <td>nr.employed</td>\n",
       "      <td>0.151718</td>\n",
       "      <td>nr.employed</td>\n",
       "      <td>0.157340</td>\n",
       "      <td>nr.employed</td>\n",
       "      <td>0.156136</td>\n",
       "      <td>nr.employed</td>\n",
       "      <td>0.169848</td>\n",
       "      <td>nr.employed</td>\n",
       "      <td>0.144622</td>\n",
       "    </tr>\n",
       "    <tr>\n",
       "      <th>2</th>\n",
       "      <td>euribor3m</td>\n",
       "      <td>0.112667</td>\n",
       "      <td>euribor3m</td>\n",
       "      <td>0.115865</td>\n",
       "      <td>euribor3m</td>\n",
       "      <td>0.120357</td>\n",
       "      <td>euribor3m</td>\n",
       "      <td>0.128679</td>\n",
       "      <td>euribor3m</td>\n",
       "      <td>0.125016</td>\n",
       "      <td>euribor3m</td>\n",
       "      <td>0.133321</td>\n",
       "      <td>euribor3m</td>\n",
       "      <td>0.128219</td>\n",
       "      <td>euribor3m</td>\n",
       "      <td>0.128944</td>\n",
       "      <td>euribor3m</td>\n",
       "      <td>0.126185</td>\n",
       "      <td>euribor3m</td>\n",
       "      <td>0.127872</td>\n",
       "    </tr>\n",
       "    <tr>\n",
       "      <th>3</th>\n",
       "      <td>pdays</td>\n",
       "      <td>0.085419</td>\n",
       "      <td>pdays</td>\n",
       "      <td>0.080539</td>\n",
       "      <td>pdays</td>\n",
       "      <td>0.096813</td>\n",
       "      <td>pdays</td>\n",
       "      <td>0.093510</td>\n",
       "      <td>pdays</td>\n",
       "      <td>0.095549</td>\n",
       "      <td>pdays</td>\n",
       "      <td>0.085659</td>\n",
       "      <td>pdays</td>\n",
       "      <td>0.095668</td>\n",
       "      <td>pdays</td>\n",
       "      <td>0.081283</td>\n",
       "      <td>pdays</td>\n",
       "      <td>0.092767</td>\n",
       "      <td>pdays</td>\n",
       "      <td>0.100296</td>\n",
       "    </tr>\n",
       "    <tr>\n",
       "      <th>4</th>\n",
       "      <td>emp.var.rate</td>\n",
       "      <td>0.063285</td>\n",
       "      <td>cons.conf.idx</td>\n",
       "      <td>0.064993</td>\n",
       "      <td>cons.conf.idx</td>\n",
       "      <td>0.063825</td>\n",
       "      <td>emp.var.rate</td>\n",
       "      <td>0.063848</td>\n",
       "      <td>cons.conf.idx</td>\n",
       "      <td>0.070083</td>\n",
       "      <td>cons.conf.idx</td>\n",
       "      <td>0.065863</td>\n",
       "      <td>poutcome_success</td>\n",
       "      <td>0.065532</td>\n",
       "      <td>poutcome_success</td>\n",
       "      <td>0.066981</td>\n",
       "      <td>cons.conf.idx</td>\n",
       "      <td>0.067131</td>\n",
       "      <td>emp.var.rate</td>\n",
       "      <td>0.066448</td>\n",
       "    </tr>\n",
       "    <tr>\n",
       "      <th>5</th>\n",
       "      <td>cons.conf.idx</td>\n",
       "      <td>0.060478</td>\n",
       "      <td>poutcome_success</td>\n",
       "      <td>0.058114</td>\n",
       "      <td>emp.var.rate</td>\n",
       "      <td>0.062156</td>\n",
       "      <td>cons.conf.idx</td>\n",
       "      <td>0.062659</td>\n",
       "      <td>emp.var.rate</td>\n",
       "      <td>0.061162</td>\n",
       "      <td>poutcome_success</td>\n",
       "      <td>0.060994</td>\n",
       "      <td>cons.conf.idx</td>\n",
       "      <td>0.063316</td>\n",
       "      <td>cons.conf.idx</td>\n",
       "      <td>0.063599</td>\n",
       "      <td>emp.var.rate</td>\n",
       "      <td>0.063453</td>\n",
       "      <td>cons.conf.idx</td>\n",
       "      <td>0.063718</td>\n",
       "    </tr>\n",
       "    <tr>\n",
       "      <th>6</th>\n",
       "      <td>poutcome_success</td>\n",
       "      <td>0.058916</td>\n",
       "      <td>emp.var.rate</td>\n",
       "      <td>0.054714</td>\n",
       "      <td>poutcome_success</td>\n",
       "      <td>0.056411</td>\n",
       "      <td>poutcome_success</td>\n",
       "      <td>0.062210</td>\n",
       "      <td>poutcome_success</td>\n",
       "      <td>0.054936</td>\n",
       "      <td>emp.var.rate</td>\n",
       "      <td>0.060182</td>\n",
       "      <td>emp.var.rate</td>\n",
       "      <td>0.060058</td>\n",
       "      <td>emp.var.rate</td>\n",
       "      <td>0.058197</td>\n",
       "      <td>poutcome_success</td>\n",
       "      <td>0.060534</td>\n",
       "      <td>poutcome_success</td>\n",
       "      <td>0.061553</td>\n",
       "    </tr>\n",
       "    <tr>\n",
       "      <th>7</th>\n",
       "      <td>cons.price.idx</td>\n",
       "      <td>0.037323</td>\n",
       "      <td>cons.price.idx</td>\n",
       "      <td>0.044576</td>\n",
       "      <td>cons.price.idx</td>\n",
       "      <td>0.035552</td>\n",
       "      <td>cons.price.idx</td>\n",
       "      <td>0.039962</td>\n",
       "      <td>cons.price.idx</td>\n",
       "      <td>0.040677</td>\n",
       "      <td>cons.price.idx</td>\n",
       "      <td>0.039179</td>\n",
       "      <td>cons.price.idx</td>\n",
       "      <td>0.036080</td>\n",
       "      <td>cons.price.idx</td>\n",
       "      <td>0.043386</td>\n",
       "      <td>cons.price.idx</td>\n",
       "      <td>0.035199</td>\n",
       "      <td>cons.price.idx</td>\n",
       "      <td>0.042074</td>\n",
       "    </tr>\n",
       "    <tr>\n",
       "      <th>8</th>\n",
       "      <td>previous</td>\n",
       "      <td>0.020138</td>\n",
       "      <td>poutcome_nonexistent</td>\n",
       "      <td>0.018858</td>\n",
       "      <td>poutcome_nonexistent</td>\n",
       "      <td>0.017510</td>\n",
       "      <td>age</td>\n",
       "      <td>0.018973</td>\n",
       "      <td>previous</td>\n",
       "      <td>0.018403</td>\n",
       "      <td>previous</td>\n",
       "      <td>0.019676</td>\n",
       "      <td>previous</td>\n",
       "      <td>0.019798</td>\n",
       "      <td>poutcome_nonexistent</td>\n",
       "      <td>0.019705</td>\n",
       "      <td>previous</td>\n",
       "      <td>0.019069</td>\n",
       "      <td>previous</td>\n",
       "      <td>0.020641</td>\n",
       "    </tr>\n",
       "    <tr>\n",
       "      <th>9</th>\n",
       "      <td>age</td>\n",
       "      <td>0.017024</td>\n",
       "      <td>previous</td>\n",
       "      <td>0.016835</td>\n",
       "      <td>age</td>\n",
       "      <td>0.016586</td>\n",
       "      <td>poutcome_nonexistent</td>\n",
       "      <td>0.015299</td>\n",
       "      <td>poutcome_nonexistent</td>\n",
       "      <td>0.016932</td>\n",
       "      <td>poutcome_nonexistent</td>\n",
       "      <td>0.017334</td>\n",
       "      <td>poutcome_nonexistent</td>\n",
       "      <td>0.016300</td>\n",
       "      <td>previous</td>\n",
       "      <td>0.017660</td>\n",
       "      <td>age</td>\n",
       "      <td>0.015227</td>\n",
       "      <td>age</td>\n",
       "      <td>0.018922</td>\n",
       "    </tr>\n",
       "  </tbody>\n",
       "</table>\n",
       "</div>"
      ],
      "text/plain": [
       "  columns order for estimator_0  importance_estimator_0  \\\n",
       "0                      duration                0.277608   \n",
       "1                   nr.employed                0.163649   \n",
       "2                     euribor3m                0.112667   \n",
       "3                         pdays                0.085419   \n",
       "4                  emp.var.rate                0.063285   \n",
       "5                 cons.conf.idx                0.060478   \n",
       "6              poutcome_success                0.058916   \n",
       "7                cons.price.idx                0.037323   \n",
       "8                      previous                0.020138   \n",
       "9                           age                0.017024   \n",
       "\n",
       "  columns order for estimator_1  importance_estimator_1  \\\n",
       "0                      duration                0.289440   \n",
       "1                   nr.employed                0.162125   \n",
       "2                     euribor3m                0.115865   \n",
       "3                         pdays                0.080539   \n",
       "4                 cons.conf.idx                0.064993   \n",
       "5              poutcome_success                0.058114   \n",
       "6                  emp.var.rate                0.054714   \n",
       "7                cons.price.idx                0.044576   \n",
       "8          poutcome_nonexistent                0.018858   \n",
       "9                      previous                0.016835   \n",
       "\n",
       "  columns order for estimator_2  importance_estimator_2  \\\n",
       "0                      duration                0.279678   \n",
       "1                   nr.employed                0.154816   \n",
       "2                     euribor3m                0.120357   \n",
       "3                         pdays                0.096813   \n",
       "4                 cons.conf.idx                0.063825   \n",
       "5                  emp.var.rate                0.062156   \n",
       "6              poutcome_success                0.056411   \n",
       "7                cons.price.idx                0.035552   \n",
       "8          poutcome_nonexistent                0.017510   \n",
       "9                           age                0.016586   \n",
       "\n",
       "  columns order for estimator_3  importance_estimator_3  \\\n",
       "0                      duration                0.266780   \n",
       "1                   nr.employed                0.152964   \n",
       "2                     euribor3m                0.128679   \n",
       "3                         pdays                0.093510   \n",
       "4                  emp.var.rate                0.063848   \n",
       "5                 cons.conf.idx                0.062659   \n",
       "6              poutcome_success                0.062210   \n",
       "7                cons.price.idx                0.039962   \n",
       "8                           age                0.018973   \n",
       "9          poutcome_nonexistent                0.015299   \n",
       "\n",
       "  columns order for estimator_4  importance_estimator_4  \\\n",
       "0                      duration                0.264349   \n",
       "1                   nr.employed                0.157283   \n",
       "2                     euribor3m                0.125016   \n",
       "3                         pdays                0.095549   \n",
       "4                 cons.conf.idx                0.070083   \n",
       "5                  emp.var.rate                0.061162   \n",
       "6              poutcome_success                0.054936   \n",
       "7                cons.price.idx                0.040677   \n",
       "8                      previous                0.018403   \n",
       "9          poutcome_nonexistent                0.016932   \n",
       "\n",
       "  columns order for estimator_5  importance_estimator_5  \\\n",
       "0                      duration                0.264556   \n",
       "1                   nr.employed                0.151718   \n",
       "2                     euribor3m                0.133321   \n",
       "3                         pdays                0.085659   \n",
       "4                 cons.conf.idx                0.065863   \n",
       "5              poutcome_success                0.060994   \n",
       "6                  emp.var.rate                0.060182   \n",
       "7                cons.price.idx                0.039179   \n",
       "8                      previous                0.019676   \n",
       "9          poutcome_nonexistent                0.017334   \n",
       "\n",
       "  columns order for estimator_6  importance_estimator_6  \\\n",
       "0                      duration                0.255759   \n",
       "1                   nr.employed                0.157340   \n",
       "2                     euribor3m                0.128219   \n",
       "3                         pdays                0.095668   \n",
       "4              poutcome_success                0.065532   \n",
       "5                 cons.conf.idx                0.063316   \n",
       "6                  emp.var.rate                0.060058   \n",
       "7                cons.price.idx                0.036080   \n",
       "8                      previous                0.019798   \n",
       "9          poutcome_nonexistent                0.016300   \n",
       "\n",
       "  columns order for estimator_7  importance_estimator_7  \\\n",
       "0                      duration                0.265058   \n",
       "1                   nr.employed                0.156136   \n",
       "2                     euribor3m                0.128944   \n",
       "3                         pdays                0.081283   \n",
       "4              poutcome_success                0.066981   \n",
       "5                 cons.conf.idx                0.063599   \n",
       "6                  emp.var.rate                0.058197   \n",
       "7                cons.price.idx                0.043386   \n",
       "8          poutcome_nonexistent                0.019705   \n",
       "9                      previous                0.017660   \n",
       "\n",
       "  columns order for estimator_8  importance_estimator_8  \\\n",
       "0                      duration                0.254207   \n",
       "1                   nr.employed                0.169848   \n",
       "2                     euribor3m                0.126185   \n",
       "3                         pdays                0.092767   \n",
       "4                 cons.conf.idx                0.067131   \n",
       "5                  emp.var.rate                0.063453   \n",
       "6              poutcome_success                0.060534   \n",
       "7                cons.price.idx                0.035199   \n",
       "8                      previous                0.019069   \n",
       "9                           age                0.015227   \n",
       "\n",
       "  columns order for estimator_9  importance_estimator_9  \n",
       "0                      duration                0.256453  \n",
       "1                   nr.employed                0.144622  \n",
       "2                     euribor3m                0.127872  \n",
       "3                         pdays                0.100296  \n",
       "4                  emp.var.rate                0.066448  \n",
       "5                 cons.conf.idx                0.063718  \n",
       "6              poutcome_success                0.061553  \n",
       "7                cons.price.idx                0.042074  \n",
       "8                      previous                0.020641  \n",
       "9                           age                0.018922  "
      ]
     },
     "execution_count": 22,
     "metadata": {},
     "output_type": "execute_result"
    }
   ],
   "source": [
    "feature_importances.head(10)"
   ]
  },
  {
   "cell_type": "markdown",
   "metadata": {},
   "source": [
    "<blockquote>Enter specific columns obtained from feature importance dataframe and train the model on them.\n",
    "<p>In this case we find the columns 'pdays', 'duration', 'euribor3m', 'cons.conf.idx', 'nr.employed' as the most important features</p></blockquote>"
   ]
  },
  {
   "cell_type": "code",
   "execution_count": 23,
   "metadata": {},
   "outputs": [
    {
     "name": "stdout",
     "output_type": "stream",
     "text": [
      "Mean training ROC AUC score:  0.6898457971188521  and mean testing ROC AUC score:  0.6829390088032005\n",
      "Mean training accuracy score:  0.9139231531588564  and mean testing accuracy score:  0.9114791308735114\n",
      "Mean training recall score:  0.4005986590038314  and mean testing recall score:  0.38793103448275856\n",
      "Mean training precision score:  0.7091834662469677  and mean testing precision score:  0.6924859828756309\n",
      "Mean training f1 score:  0.5114896909042359  and mean testing f1 score:  0.4964042471037581\n"
     ]
    }
   ],
   "source": [
    "data=pd.read_csv('bank-additional-full.csv',sep=';')\n",
    "y=Feature_engineering.transform_y(data.iloc[:,-1])\n",
    "imp_cols=['pdays','duration','euribor3m','cons.conf.idx','nr.employed'] #columns obtained from feature importances\n",
    "X=data.loc[:,imp_cols]\n",
    "scores=random_forest_pipeline(X,y)"
   ]
  },
  {
   "cell_type": "markdown",
   "metadata": {},
   "source": [
    "### Strarified K fold Cross-validation on already fitted pipeline of Random Forest with flexible threshold and chosen fields\n"
   ]
  },
  {
   "cell_type": "code",
   "execution_count": 24,
   "metadata": {},
   "outputs": [],
   "source": [
    "class K_Fold_score():\n",
    "    \n",
    "    def func_predict_proba(self,X,y,threshold,scores,idx):\n",
    "        predicted_proba=scores['estimator'][idx].predict_proba(Feature_engineering().fit_transform(X))\n",
    "        predicted = (predicted_proba[:,1] >= threshold).astype('int')\n",
    "        roc_auc=roc_auc_score(y,predicted)\n",
    "        f1=f1_score(y,predicted)\n",
    "        recall=recall_score(y,predicted)\n",
    "        accuracy=accuracy_score(y,predicted)\n",
    "        return roc_auc\n",
    "\n",
    "    def score_iter(self,X,y,scores,threshold):\n",
    "\n",
    "        cv=StratifiedKFold(n_splits=10, random_state=0, shuffle=True)\n",
    "        train_score=0\n",
    "        test_score=0\n",
    "        for idx,estimator in enumerate(scores['estimator']):\n",
    "            train_score_iter=0\n",
    "            test_score_iter=0\n",
    "            for train_idx,test_idx in cv.split(X, y):\n",
    "\n",
    "                train_score_iter = train_score_iter +self.func_predict_proba(X.iloc[train_idx],y.iloc[train_idx],threshold,scores,idx)\n",
    "                test_score_iter  = test_score_iter +self.func_predict_proba(X.iloc[test_idx],y.iloc[test_idx],threshold,scores,idx)\n",
    "\n",
    "            train_score_iter /=len(scores['estimator'])\n",
    "            test_score_iter /=len(scores['estimator'])\n",
    "            \n",
    "            train_score=train_score+train_score_iter\n",
    "            test_score=test_score+test_score_iter\n",
    "        \n",
    "        train_score/=len(scores['estimator'])\n",
    "        test_score/=len(scores['estimator'])\n",
    "        return train_score,test_score\n",
    "    \n",
    "    def plot_score(self,train_list,test_list,threshold):\n",
    "        plt.plot(threshold,train_list, label = \"Train ROC AUC score\",marker=\".\")\n",
    "        plt.plot(threshold,test_list, label = \"Test ROC AUC score\",marker=\".\")\n",
    "        plt.axhline(y=train_list[5], color='r', linestyle='-')\n",
    "        plt.legend()\n",
    "        plt.show()\n"
   ]
  },
  {
   "cell_type": "code",
   "execution_count": 25,
   "metadata": {},
   "outputs": [],
   "source": [
    "obj= K_Fold_score()"
   ]
  },
  {
   "cell_type": "code",
   "execution_count": 26,
   "metadata": {},
   "outputs": [
    {
     "name": "stdout",
     "output_type": "stream",
     "text": [
      "--- Time of execution is 166.47174525260925 seconds ---\n"
     ]
    }
   ],
   "source": [
    "start_time = time.time()        \n",
    "threshold=[0.05,0.1,0.2,0.3,0.4,0.5,0.7]\n",
    "train_list=[]\n",
    "test_list=[]\n",
    "for i in threshold:\n",
    "    train_score,test_score=obj.score_iter(X,y,scores,i)\n",
    "    train_list.append(train_score)\n",
    "    test_list.append(test_score)\n",
    "\n",
    "print(\"--- Time of execution is %s seconds ---\" % (time.time() - start_time))"
   ]
  },
  {
   "cell_type": "markdown",
   "metadata": {},
   "source": [
    "#### Threshold vs Accuracy plot"
   ]
  },
  {
   "cell_type": "code",
   "execution_count": 27,
   "metadata": {},
   "outputs": [
    {
     "data": {
      "image/png": "[encoded data removed]",
      "text/plain": [
       "<Figure size 432x288 with 1 Axes>"
      ]
     },
     "metadata": {
      "needs_background": "light"
     },
     "output_type": "display_data"
    }
   ],
   "source": [
    "obj.plot_score(train_list,test_list,threshold)"
   ]
  },
  {
   "cell_type": "markdown",
   "metadata": {},
   "source": [
    "<center><b>Note:</b> We see an improvement in training score and testing score on using those specific columns and flexible threshold</center>"
   ]
  },
  {
   "cell_type": "markdown",
   "metadata": {},
   "source": [
    "### Stratified K-fold CV on Pipeline including Feature Engineering, SMOTE , Undersampling and Random Forest\n"
   ]
  },
  {
   "cell_type": "code",
   "execution_count": 28,
   "metadata": {
    "scrolled": true
   },
   "outputs": [],
   "source": [
    "def random_forest_pipeline(X,y):\n",
    "    from imblearn.pipeline import Pipeline\n",
    "\n",
    "    over = SMOTE(sampling_strategy=0.2)\n",
    "    under = RandomUnderSampler(sampling_strategy=0.5)\n",
    "    pipeline = Pipeline([('Pre-processing',Feature_engineering()),('over', over),('under', under),('forest',RandomForestClassifier(n_estimators=50,random_state=42,max_depth=5))])\n",
    "    pipeline = pipeline.fit(X,y)\n",
    "    scores = cross_validate(pipeline,X,y,cv=10,scoring=scoring,return_train_score=True,return_estimator =True)\n",
    "    \n",
    "    accuracy_measures(scores)\n",
    "    return scores"
   ]
  },
  {
   "cell_type": "markdown",
   "metadata": {},
   "source": [
    "Initially, use all the columns to fit the model"
   ]
  },
  {
   "cell_type": "code",
   "execution_count": 29,
   "metadata": {},
   "outputs": [
    {
     "name": "stderr",
     "output_type": "stream",
     "text": [
      "C:\\Users\\surta\\anaconda3\\lib\\site-packages\\sklearn\\metrics\\_classification.py:1245: UndefinedMetricWarning: Precision is ill-defined and being set to 0.0 due to no predicted samples. Use `zero_division` parameter to control this behavior.\n",
      "  _warn_prf(average, modifier, msg_start, len(result))\n",
      "C:\\Users\\surta\\anaconda3\\lib\\site-packages\\sklearn\\metrics\\_classification.py:1245: UndefinedMetricWarning: Precision is ill-defined and being set to 0.0 due to no predicted samples. Use `zero_division` parameter to control this behavior.\n",
      "  _warn_prf(average, modifier, msg_start, len(result))\n"
     ]
    },
    {
     "name": "stdout",
     "output_type": "stream",
     "text": [
      "Mean training ROC AUC score:  0.7708791730497906  and mean testing ROC AUC score:  0.558973024053246\n",
      "Mean training accuracy score:  0.8967093375244787  and mean testing accuracy score:  0.7340582283666082\n",
      "Mean training recall score:  0.6084530651340996  and mean testing recall score:  0.3329741379310345\n",
      "Mean training precision score:  0.5536779661104976  and mean testing precision score:  0.23813134337384248\n",
      "Mean training f1 score:  0.5727891507473657  and mean testing f1 score:  0.14873257803671655\n"
     ]
    }
   ],
   "source": [
    "data=pd.read_csv('bank-additional-full.csv',sep=';')\n",
    "\n",
    "X=data.iloc[:,:-1]\n",
    "y=Feature_engineering.transform_y(data.iloc[:,-1])\n",
    "scores=random_forest_pipeline(X,y)"
   ]
  },
  {
   "cell_type": "markdown",
   "metadata": {},
   "source": [
    "<u>To deal with class imbalance , we oversample the minority class and undersampling the majority class</u>"
   ]
  },
  {
   "cell_type": "markdown",
   "metadata": {},
   "source": [
    "#### Generating the feature importance dataframe for each of the K estimators"
   ]
  },
  {
   "cell_type": "code",
   "execution_count": 30,
   "metadata": {},
   "outputs": [],
   "source": [
    "feature_importances=pd.DataFrame()\n",
    "for idx,estimator in enumerate(scores['estimator']):\n",
    "    ft_estimator=pd.DataFrame({\n",
    "        'columns order for estimator_{}'.format(idx):Feature_engineering().fit_transform(X).columns,\n",
    "        'importance_estimator_{}'.format(idx):estimator.steps[3][1].feature_importances_}).sort_values(['importance_estimator_{}'.format(idx)], ascending=False)\n",
    "    ft_estimator.reset_index(inplace=True,drop=True)\n",
    "    feature_importances=pd.concat([feature_importances,ft_estimator],axis=1)"
   ]
  },
  {
   "cell_type": "code",
   "execution_count": 31,
   "metadata": {},
   "outputs": [
    {
     "data": {
      "text/html": [
       "<div>\n",
       "<style scoped>\n",
       "    .dataframe tbody tr th:only-of-type {\n",
       "        vertical-align: middle;\n",
       "    }\n",
       "\n",
       "    .dataframe tbody tr th {\n",
       "        vertical-align: top;\n",
       "    }\n",
       "\n",
       "    .dataframe thead th {\n",
       "        text-align: right;\n",
       "    }\n",
       "</style>\n",
       "<table border=\"1\" class=\"dataframe\">\n",
       "  <thead>\n",
       "    <tr style=\"text-align: right;\">\n",
       "      <th></th>\n",
       "      <th>columns order for estimator_0</th>\n",
       "      <th>importance_estimator_0</th>\n",
       "      <th>columns order for estimator_1</th>\n",
       "      <th>importance_estimator_1</th>\n",
       "      <th>columns order for estimator_2</th>\n",
       "      <th>importance_estimator_2</th>\n",
       "      <th>columns order for estimator_3</th>\n",
       "      <th>importance_estimator_3</th>\n",
       "      <th>columns order for estimator_4</th>\n",
       "      <th>importance_estimator_4</th>\n",
       "      <th>columns order for estimator_5</th>\n",
       "      <th>importance_estimator_5</th>\n",
       "      <th>columns order for estimator_6</th>\n",
       "      <th>importance_estimator_6</th>\n",
       "      <th>columns order for estimator_7</th>\n",
       "      <th>importance_estimator_7</th>\n",
       "      <th>columns order for estimator_8</th>\n",
       "      <th>importance_estimator_8</th>\n",
       "      <th>columns order for estimator_9</th>\n",
       "      <th>importance_estimator_9</th>\n",
       "    </tr>\n",
       "  </thead>\n",
       "  <tbody>\n",
       "    <tr>\n",
       "      <th>0</th>\n",
       "      <td>duration</td>\n",
       "      <td>0.250597</td>\n",
       "      <td>duration</td>\n",
       "      <td>0.243983</td>\n",
       "      <td>duration</td>\n",
       "      <td>0.234789</td>\n",
       "      <td>duration</td>\n",
       "      <td>0.261250</td>\n",
       "      <td>duration</td>\n",
       "      <td>0.223412</td>\n",
       "      <td>duration</td>\n",
       "      <td>0.295962</td>\n",
       "      <td>duration</td>\n",
       "      <td>0.304962</td>\n",
       "      <td>duration</td>\n",
       "      <td>0.249889</td>\n",
       "      <td>duration</td>\n",
       "      <td>0.301963</td>\n",
       "      <td>duration</td>\n",
       "      <td>0.210650</td>\n",
       "    </tr>\n",
       "    <tr>\n",
       "      <th>1</th>\n",
       "      <td>nr.employed</td>\n",
       "      <td>0.146482</td>\n",
       "      <td>emp.var.rate</td>\n",
       "      <td>0.140261</td>\n",
       "      <td>nr.employed</td>\n",
       "      <td>0.159983</td>\n",
       "      <td>nr.employed</td>\n",
       "      <td>0.169838</td>\n",
       "      <td>nr.employed</td>\n",
       "      <td>0.181245</td>\n",
       "      <td>euribor3m</td>\n",
       "      <td>0.136846</td>\n",
       "      <td>emp.var.rate</td>\n",
       "      <td>0.131665</td>\n",
       "      <td>euribor3m</td>\n",
       "      <td>0.127457</td>\n",
       "      <td>emp.var.rate</td>\n",
       "      <td>0.173451</td>\n",
       "      <td>nr.employed</td>\n",
       "      <td>0.158732</td>\n",
       "    </tr>\n",
       "    <tr>\n",
       "      <th>2</th>\n",
       "      <td>emp.var.rate</td>\n",
       "      <td>0.129937</td>\n",
       "      <td>nr.employed</td>\n",
       "      <td>0.140001</td>\n",
       "      <td>euribor3m</td>\n",
       "      <td>0.122514</td>\n",
       "      <td>euribor3m</td>\n",
       "      <td>0.121791</td>\n",
       "      <td>euribor3m</td>\n",
       "      <td>0.116682</td>\n",
       "      <td>nr.employed</td>\n",
       "      <td>0.102288</td>\n",
       "      <td>nr.employed</td>\n",
       "      <td>0.117915</td>\n",
       "      <td>emp.var.rate</td>\n",
       "      <td>0.117706</td>\n",
       "      <td>euribor3m</td>\n",
       "      <td>0.115368</td>\n",
       "      <td>euribor3m</td>\n",
       "      <td>0.147933</td>\n",
       "    </tr>\n",
       "    <tr>\n",
       "      <th>3</th>\n",
       "      <td>euribor3m</td>\n",
       "      <td>0.113665</td>\n",
       "      <td>euribor3m</td>\n",
       "      <td>0.099850</td>\n",
       "      <td>emp.var.rate</td>\n",
       "      <td>0.107550</td>\n",
       "      <td>emp.var.rate</td>\n",
       "      <td>0.081084</td>\n",
       "      <td>emp.var.rate</td>\n",
       "      <td>0.089143</td>\n",
       "      <td>emp.var.rate</td>\n",
       "      <td>0.079699</td>\n",
       "      <td>euribor3m</td>\n",
       "      <td>0.077081</td>\n",
       "      <td>nr.employed</td>\n",
       "      <td>0.100868</td>\n",
       "      <td>nr.employed</td>\n",
       "      <td>0.082870</td>\n",
       "      <td>emp.var.rate</td>\n",
       "      <td>0.139606</td>\n",
       "    </tr>\n",
       "    <tr>\n",
       "      <th>4</th>\n",
       "      <td>pdays</td>\n",
       "      <td>0.068946</td>\n",
       "      <td>pdays</td>\n",
       "      <td>0.073015</td>\n",
       "      <td>cons.conf.idx</td>\n",
       "      <td>0.074264</td>\n",
       "      <td>pdays</td>\n",
       "      <td>0.078334</td>\n",
       "      <td>pdays</td>\n",
       "      <td>0.079559</td>\n",
       "      <td>pdays</td>\n",
       "      <td>0.078794</td>\n",
       "      <td>pdays</td>\n",
       "      <td>0.075907</td>\n",
       "      <td>cons.conf.idx</td>\n",
       "      <td>0.074001</td>\n",
       "      <td>pdays</td>\n",
       "      <td>0.058314</td>\n",
       "      <td>cons.conf.idx</td>\n",
       "      <td>0.097908</td>\n",
       "    </tr>\n",
       "  </tbody>\n",
       "</table>\n",
       "</div>"
      ],
      "text/plain": [
       "  columns order for estimator_0  importance_estimator_0  \\\n",
       "0                      duration                0.250597   \n",
       "1                   nr.employed                0.146482   \n",
       "2                  emp.var.rate                0.129937   \n",
       "3                     euribor3m                0.113665   \n",
       "4                         pdays                0.068946   \n",
       "\n",
       "  columns order for estimator_1  importance_estimator_1  \\\n",
       "0                      duration                0.243983   \n",
       "1                  emp.var.rate                0.140261   \n",
       "2                   nr.employed                0.140001   \n",
       "3                     euribor3m                0.099850   \n",
       "4                         pdays                0.073015   \n",
       "\n",
       "  columns order for estimator_2  importance_estimator_2  \\\n",
       "0                      duration                0.234789   \n",
       "1                   nr.employed                0.159983   \n",
       "2                     euribor3m                0.122514   \n",
       "3                  emp.var.rate                0.107550   \n",
       "4                 cons.conf.idx                0.074264   \n",
       "\n",
       "  columns order for estimator_3  importance_estimator_3  \\\n",
       "0                      duration                0.261250   \n",
       "1                   nr.employed                0.169838   \n",
       "2                     euribor3m                0.121791   \n",
       "3                  emp.var.rate                0.081084   \n",
       "4                         pdays                0.078334   \n",
       "\n",
       "  columns order for estimator_4  importance_estimator_4  \\\n",
       "0                      duration                0.223412   \n",
       "1                   nr.employed                0.181245   \n",
       "2                     euribor3m                0.116682   \n",
       "3                  emp.var.rate                0.089143   \n",
       "4                         pdays                0.079559   \n",
       "\n",
       "  columns order for estimator_5  importance_estimator_5  \\\n",
       "0                      duration                0.295962   \n",
       "1                     euribor3m                0.136846   \n",
       "2                   nr.employed                0.102288   \n",
       "3                  emp.var.rate                0.079699   \n",
       "4                         pdays                0.078794   \n",
       "\n",
       "  columns order for estimator_6  importance_estimator_6  \\\n",
       "0                      duration                0.304962   \n",
       "1                  emp.var.rate                0.131665   \n",
       "2                   nr.employed                0.117915   \n",
       "3                     euribor3m                0.077081   \n",
       "4                         pdays                0.075907   \n",
       "\n",
       "  columns order for estimator_7  importance_estimator_7  \\\n",
       "0                      duration                0.249889   \n",
       "1                     euribor3m                0.127457   \n",
       "2                  emp.var.rate                0.117706   \n",
       "3                   nr.employed                0.100868   \n",
       "4                 cons.conf.idx                0.074001   \n",
       "\n",
       "  columns order for estimator_8  importance_estimator_8  \\\n",
       "0                      duration                0.301963   \n",
       "1                  emp.var.rate                0.173451   \n",
       "2                     euribor3m                0.115368   \n",
       "3                   nr.employed                0.082870   \n",
       "4                         pdays                0.058314   \n",
       "\n",
       "  columns order for estimator_9  importance_estimator_9  \n",
       "0                      duration                0.210650  \n",
       "1                   nr.employed                0.158732  \n",
       "2                     euribor3m                0.147933  \n",
       "3                  emp.var.rate                0.139606  \n",
       "4                 cons.conf.idx                0.097908  "
      ]
     },
     "execution_count": 31,
     "metadata": {},
     "output_type": "execute_result"
    }
   ],
   "source": [
    "feature_importances.head()"
   ]
  },
  {
   "cell_type": "markdown",
   "metadata": {},
   "source": [
    "<blockquote>Enter specific columns obtained from feature importance dataframe and train the model on them.\n",
    "<p>In this case we find the columns 'pdays','duration','euribor3m','cons.conf.idx','nr.employed' as the most important features</p></blockquote>"
   ]
  },
  {
   "cell_type": "code",
   "execution_count": 32,
   "metadata": {
    "scrolled": true
   },
   "outputs": [
    {
     "name": "stdout",
     "output_type": "stream",
     "text": [
      "Mean training ROC AUC score:  0.8761448678072146  and mean testing ROC AUC score:  0.574410905173271\n",
      "Mean training accuracy score:  0.8934546325012052  and mean testing accuracy score:  0.7100291285626366\n",
      "Mean training recall score:  0.8538002443389082  and mean testing recall score:  0.39936974007596626\n",
      "Mean training precision score:  0.5182416942534752  and mean testing precision score:  0.26296593149040437\n",
      "Mean training f1 score:  0.6443519810373807  and mean testing f1 score:  0.2272920926549297\n"
     ]
    }
   ],
   "source": [
    "data=pd.read_csv('bank-additional-full.csv',sep=';')\n",
    "data=data[~data.duplicated()] #removing duplicate rows\n",
    "\n",
    "y=Feature_engineering.transform_y(data.iloc[:,-1])\n",
    "imp_cols=['pdays','duration','euribor3m','cons.conf.idx','nr.employed'] #columns obtained from feature importances\n",
    "X=data.loc[:,imp_cols]\n",
    "scores=random_forest_pipeline(X,y)"
   ]
  },
  {
   "cell_type": "markdown",
   "metadata": {},
   "source": [
    "### Strarified K fold Cross-validation on already fitted pipeline of Feature Engineering, SMOTE,Random Undersampling, Random Forest with flexible threshold and chosen fields\n"
   ]
  },
  {
   "cell_type": "code",
   "execution_count": 33,
   "metadata": {},
   "outputs": [],
   "source": [
    "class K_Fold_score():\n",
    "    \n",
    "    def func_predict_proba(self,X,y,threshold,scores,idx):\n",
    "        predicted_proba=scores['estimator'][idx].predict_proba(Feature_engineering().fit_transform(X))\n",
    "        predicted = (predicted_proba[:,1] >= threshold).astype('int')\n",
    "        roc_auc=roc_auc_score(y,predicted)\n",
    "        f1=f1_score(y,predicted)\n",
    "        recall=recall_score(y,predicted)\n",
    "        accuracy=accuracy_score(y,predicted)\n",
    "        return roc_auc\n",
    "\n",
    "    def score_iter(self,X,y,scores,threshold):\n",
    "\n",
    "        cv=StratifiedKFold(n_splits=10, random_state=0, shuffle=True)\n",
    "        train_score=0\n",
    "        test_score=0\n",
    "        for idx,estimator in enumerate(scores['estimator']):\n",
    "            train_score_iter=0\n",
    "            test_score_iter=0\n",
    "            for train_idx,test_idx in cv.split(X, y):\n",
    "\n",
    "                train_score_iter = train_score_iter +self.func_predict_proba(X.iloc[train_idx],y.iloc[train_idx],threshold,scores,idx)\n",
    "                test_score_iter  = test_score_iter +self.func_predict_proba(X.iloc[test_idx],y.iloc[test_idx],threshold,scores,idx)\n",
    "\n",
    "            train_score_iter /=len(scores['estimator'])\n",
    "            test_score_iter /=len(scores['estimator'])\n",
    "            \n",
    "            train_score=train_score+train_score_iter\n",
    "            test_score=test_score+test_score_iter\n",
    "        \n",
    "        train_score/=len(scores['estimator'])\n",
    "        test_score/=len(scores['estimator'])\n",
    "        return train_score,test_score\n",
    "    \n",
    "    def plot_score(self,train_list,test_list,threshold):\n",
    "        plt.plot(threshold,train_list, label = \"Train ROC AUC score\",marker=\".\")\n",
    "        plt.plot(threshold,test_list, label = \"Test ROC AUC score\",marker=\".\")\n",
    "        plt.axhline(y=train_list[5], color='r', linestyle='-')\n",
    "        plt.legend()\n",
    "        plt.show()\n"
   ]
  },
  {
   "cell_type": "code",
   "execution_count": 34,
   "metadata": {},
   "outputs": [],
   "source": [
    "obj= K_Fold_score()"
   ]
  },
  {
   "cell_type": "code",
   "execution_count": 35,
   "metadata": {},
   "outputs": [
    {
     "name": "stdout",
     "output_type": "stream",
     "text": [
      "--- Time of execution is 103.16607189178467 seconds ---\n"
     ]
    }
   ],
   "source": [
    "start_time = time.time()        \n",
    "threshold=[0.05,0.1,0.2,0.3,0.4,0.5,0.7]\n",
    "train_list=[]\n",
    "test_list=[]\n",
    "for i in threshold:\n",
    "    train_score,test_score=obj.score_iter(X,y,scores,i)\n",
    "    train_list.append(train_score)\n",
    "    test_list.append(test_score)\n",
    "\n",
    "print(\"--- Time of execution is %s seconds ---\" % (time.time() - start_time))"
   ]
  },
  {
   "cell_type": "markdown",
   "metadata": {},
   "source": [
    "#### Threshold vs Accuracy plot"
   ]
  },
  {
   "cell_type": "code",
   "execution_count": 36,
   "metadata": {},
   "outputs": [
    {
     "data": {
      "image/png": "[encoded data removed]",
      "text/plain": [
       "<Figure size 432x288 with 1 Axes>"
      ]
     },
     "metadata": {
      "needs_background": "light"
     },
     "output_type": "display_data"
    }
   ],
   "source": [
    "obj.plot_score(train_list,test_list,threshold)"
   ]
  },
  {
   "cell_type": "markdown",
   "metadata": {},
   "source": [
    "<center><b>Note:</b> We see an improvement in training score and testing score on using those specific columns</center>"
   ]
  },
  {
   "cell_type": "markdown",
   "metadata": {},
   "source": [
    "### Strarified K fold Cross-validation on Pipeline including  Feature Engineering and Naive Bayes"
   ]
  },
  {
   "cell_type": "code",
   "execution_count": 37,
   "metadata": {},
   "outputs": [],
   "source": [
    "def naive_bayes_pipeline(X,y):\n",
    "    cv=StratifiedKFold(n_splits=10, random_state=0, shuffle=True)\n",
    "    pipeline = Pipeline([('Pre-processing',Feature_engineering()),('Naive Bayes',GaussianNB())])\n",
    "    scores = cross_validate(pipeline,X,y,cv=cv,scoring=scoring,return_train_score=True,return_estimator=True)\n",
    "    \n",
    "    accuracy_measures(scores)\n",
    "    return scores"
   ]
  },
  {
   "cell_type": "code",
   "execution_count": 38,
   "metadata": {},
   "outputs": [
    {
     "name": "stdout",
     "output_type": "stream",
     "text": [
      "Mean training ROC AUC score:  0.7129325171022405  and mean testing ROC AUC score:  0.7119821473863999\n",
      "Mean training accuracy score:  0.8641090852364657  and mean testing accuracy score:  0.8639258524015198\n",
      "Mean training recall score:  0.5177840296418658  and mean testing recall score:  0.5158435428613986\n",
      "Mean training precision score:  0.41698465310531585  and mean testing precision score:  0.41622323001370215\n",
      "Mean training f1 score:  0.4619444637157592  and mean testing f1 score:  0.46069696220166423\n",
      "--- Time of execution is 3.1206648349761963 seconds ---\n"
     ]
    }
   ],
   "source": [
    "start_time = time.time()\n",
    "\n",
    "data=pd.read_csv('bank-additional-full.csv',sep=';')\n",
    "data=data[~data.duplicated()] #removing duplicate rows\n",
    "\n",
    "X=data.iloc[:,:-1]\n",
    "y=Feature_engineering.transform_y(data.iloc[:,-1])\n",
    "scores=naive_bayes_pipeline(X,y)\n",
    "\n",
    "print(\"--- Time of execution is %s seconds ---\" % (time.time() - start_time))"
   ]
  },
  {
   "cell_type": "markdown",
   "metadata": {},
   "source": [
    "### Stratified K-fold CV on Pipeline inclduing Feature Engineering, SMOTE , Undersampling and Naive Bayes"
   ]
  },
  {
   "cell_type": "code",
   "execution_count": 39,
   "metadata": {},
   "outputs": [],
   "source": [
    "def naive_bayes_pipeline(X,y):\n",
    "    from imblearn.pipeline import Pipeline\n",
    "\n",
    "    over = SMOTE(sampling_strategy=0.2)\n",
    "    under = RandomUnderSampler(sampling_strategy=0.6)\n",
    "    pipeline = Pipeline([('Pre-processing',Feature_engineering()),('over', over),('under', under),('Naive Bayes',GaussianNB())])\n",
    "    pipeline = pipeline.fit(X,y)\n",
    "    scores = cross_validate(pipeline,X,y,cv=10,scoring=scoring,return_train_score=True,return_estimator =True)\n",
    "    \n",
    "    accuracy_measures(scores)\n",
    "    return scores"
   ]
  },
  {
   "cell_type": "code",
   "execution_count": 40,
   "metadata": {},
   "outputs": [
    {
     "name": "stdout",
     "output_type": "stream",
     "text": [
      "Mean training ROC AUC score:  0.7352568919369111  and mean testing ROC AUC score:  0.6180120975871157\n",
      "Mean training accuracy score:  0.8532586256818162  and mean testing accuracy score:  0.7421825046246253\n",
      "Mean training recall score:  0.5829326691444696  and mean testing recall score:  0.45771440008937214\n",
      "Mean training precision score:  0.40197712473531366  and mean testing precision score:  0.4154331912004078\n",
      "Mean training f1 score:  0.4731640584515315  and mean testing f1 score:  0.2880747521044092\n",
      "--- Time of execution is 8.714720726013184 seconds ---\n"
     ]
    }
   ],
   "source": [
    "start_time = time.time()\n",
    "\n",
    "data=pd.read_csv('bank-additional-full.csv',sep=';')\n",
    "data=data[~data.duplicated()] #removing duplicate rows\n",
    "\n",
    "X=data.iloc[:,:-1]\n",
    "y=Feature_engineering.transform_y(data.iloc[:,-1])\n",
    "scores=naive_bayes_pipeline(X,y)\n",
    "\n",
    "print(\"--- Time of execution is %s seconds ---\" % (time.time() - start_time))"
   ]
  },
  {
   "cell_type": "code",
   "execution_count": null,
   "metadata": {},
   "outputs": [],
   "source": []
  }
 ],
 "metadata": {
  "kernelspec": {
   "display_name": "Python 3",
   "language": "python",
   "name": "python3"
  },
  "language_info": {
   "codemirror_mode": {
    "name": "ipython",
    "version": 3
   },
   "file_extension": ".py",
   "mimetype": "text/x-python",
   "name": "python",
   "nbconvert_exporter": "python",
   "pygments_lexer": "ipython3",
   "version": "3.8.3"
  }
 },
 "nbformat": 4,
 "nbformat_minor": 4
}
